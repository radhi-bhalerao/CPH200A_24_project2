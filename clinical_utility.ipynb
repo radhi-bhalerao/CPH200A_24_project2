{
 "cells": [
  {
   "cell_type": "code",
   "execution_count": 5,
   "metadata": {},
   "outputs": [],
   "source": [
    "import numpy as np\n",
    "import pandas as pd\n",
    "from sklearn.metrics import confusion_matrix"
   ]
  },
  {
   "cell_type": "code",
   "execution_count": 14,
   "metadata": {},
   "outputs": [],
   "source": [
    "df = pd.read_csv('/Users/rbhalerao/Desktop/Project1CPH200A/project1/logs/clinical_utility/learning_rate_0.0006_batch_size_256_num_epochs_200_regularization_lambda_0')"
   ]
  },
  {
   "cell_type": "code",
   "execution_count": 21,
   "metadata": {},
   "outputs": [],
   "source": [
    "def get_feature_metrics(df, feature,nlst_metric=None, matching=None):\n",
    "    # Drop rows with NaN in the specified feature and test_Y\n",
    "    df_filtered = df.dropna(subset=[feature, 'test_Y'])\n",
    "\n",
    "    # Replace empty strings with NaN\n",
    "    df_filtered.loc[:, feature] = df_filtered[feature].replace('', pd.NA)\n",
    "\n",
    "    # Convert to numeric and drop any rows that couldn't be converted\n",
    "    y_pred_series = pd.to_numeric(df_filtered[feature], errors='coerce')\n",
    "\n",
    "    # Filter out rows where conversion to numeric produced NA\n",
    "    mask = y_pred_series.notna()\n",
    "    df_filtered = df_filtered[mask]\n",
    "\n",
    "    # Get y_true for remaining rows\n",
    "    y_true = df_filtered['lung_cancer'].astype('int64')\n",
    "\n",
    "    if feature == 'pred_test_Y':\n",
    "\n",
    "        def calculate_threshold(nlst_metric, matching):\n",
    "            thresholds = np.arange(0, 1.01, 0.01)  # Create thresholds from 0 to 1\n",
    "            best_threshold = None\n",
    "            \n",
    "            for threshold in thresholds:\n",
    "                if matching == 'specificity':\n",
    "                    predictions = (df_filtered['pred_test_Y'] >= threshold).astype(int)\n",
    "                    tn, fp, fn, tp = confusion_matrix(y_true, predictions).ravel()\n",
    "                    # Calculate specificity\n",
    "                    specificity = tn / (tn + fp) if (tn + fp) > 0 else 0\n",
    "                    if specificity >= nlst_metric:\n",
    "                        best_threshold = threshold\n",
    "                        break  # Stop at the first threshold that matches or exceeds NLST specificity\n",
    "                if matching == 'sensitivity':\n",
    "                    #If I threshold at 0, sensitivity will always be equal to 1 so change \n",
    "                    #sensivity to have to be less than or equal to nlst metric\n",
    "                    predictions = (df_filtered['pred_test_Y'] >= threshold).astype(int)\n",
    "                    tn, fp, fn, tp = confusion_matrix(y_true, predictions).ravel()\n",
    "                    # Calculate specificity\n",
    "                    sensitivity = tp/(tp+fn) if (tp + fn) > 0 else 0\n",
    "                    if sensitivity <= nlst_metric:\n",
    "                        best_threshold = threshold\n",
    "                        break\n",
    "                if matching == 'ppv':\n",
    "                    predictions = (df_filtered['pred_test_Y'] >= threshold).astype(int)\n",
    "                    tn, fp, fn, tp = confusion_matrix(y_true, predictions).ravel()\n",
    "                    # Calculate specificity\n",
    "                    ppv = tp/(tp+fp) if (tp + fp) > 0 else 0\n",
    "                    if ppv >= nlst_metric:\n",
    "                        best_threshold = threshold\n",
    "                        break\n",
    "            return best_thresholds\n",
    "\n",
    "        threshold = calculate_threshold(nlst_metric, matching)\n",
    "        print(threshold)\n",
    "        y_pred = (df_filtered[feature] >= threshold).astype('int64')\n",
    "        \n",
    "        \n",
    "    else:\n",
    "        y_pred = y_pred_series[mask].astype('int64')\n",
    "\n",
    "    # Compute confusion matrix\n",
    "    tn, fp, fn, tp = confusion_matrix(y_true, y_pred).ravel()\n",
    "\n",
    "    # Sensitivity (Recall)\n",
    "    sensitivity = tp/(tp+fn) if (tp + fn) > 0 else 0\n",
    "\n",
    "    # Specificity\n",
    "    specificity = tn / (tn + fp) if (tn + fp) > 0 else 0\n",
    "\n",
    "    # Positive Predictive Value (PPV)\n",
    "    ppv = tp/(tp+fp) if (tp + fp) > 0 else 0\n",
    "\n",
    "    metric_tracker = {\n",
    "        \"Sensitivity\": sensitivity,\n",
    "        \"Specificity\": specificity,\n",
    "        \"PPV\": ppv,\n",
    "    }\n",
    "\n",
    "    return metric_tracker\n"
   ]
  },
  {
   "cell_type": "code",
   "execution_count": 15,
   "metadata": {},
   "outputs": [
    {
     "name": "stdout",
     "output_type": "stream",
     "text": [
      "lung_cancer\n",
      "0    29175\n",
      "1      712\n",
      "Name: count, dtype: int64\n"
     ]
    }
   ],
   "source": [
    "print(df['lung_cancer'].value_counts())"
   ]
  },
  {
   "cell_type": "code",
   "execution_count": 16,
   "metadata": {},
   "outputs": [
    {
     "data": {
      "text/plain": [
       "{'Sensitivity': np.float64(0.6666666666666666),\n",
       " 'Specificity': np.float64(0.8029895687708356),\n",
       " 'PPV': np.float64(0.07537012113055182)}"
      ]
     },
     "execution_count": 16,
     "metadata": {},
     "output_type": "execute_result"
    }
   ],
   "source": [
    "get_feature_metrics(df, 'nlst_flag')"
   ]
  },
  {
   "cell_type": "code",
   "execution_count": 17,
   "metadata": {},
   "outputs": [
    {
     "data": {
      "text/plain": [
       "{'Sensitivity': np.float64(0.9887640449438202),\n",
       " 'Specificity': np.float64(0.8051756640959726),\n",
       " 'PPV': np.float64(0.11020663744520977)}"
      ]
     },
     "execution_count": 17,
     "metadata": {},
     "output_type": "execute_result"
    }
   ],
   "source": [
    "get_feature_metrics(df, 'pred_test_Y', 0.80, 'specificity')"
   ]
  },
  {
   "cell_type": "code",
   "execution_count": 18,
   "metadata": {},
   "outputs": [
    {
     "data": {
      "text/plain": [
       "{'Sensitivity': np.float64(0.6320224719101124),\n",
       " 'Specificity': np.float64(0.9943444730077121),\n",
       " 'PPV': np.float64(0.7317073170731707)}"
      ]
     },
     "execution_count": 18,
     "metadata": {},
     "output_type": "execute_result"
    }
   ],
   "source": [
    "get_feature_metrics(df, 'pred_test_Y', 0.66, 'sensitivity')"
   ]
  },
  {
   "cell_type": "code",
   "execution_count": 19,
   "metadata": {},
   "outputs": [
    {
     "data": {
      "text/plain": [
       "{'Sensitivity': np.float64(0.9985955056179775),\n",
       " 'Specificity': np.float64(0.6772236503856041),\n",
       " 'PPV': np.float64(0.07020142180094786)}"
      ]
     },
     "execution_count": 19,
     "metadata": {},
     "output_type": "execute_result"
    }
   ],
   "source": [
    "get_feature_metrics(df, 'pred_test_Y', 0.07, 'ppv')"
   ]
  },
  {
   "cell_type": "code",
   "execution_count": 22,
   "metadata": {},
   "outputs": [
    {
     "name": "stdout",
     "output_type": "stream",
     "text": [
      "0.14\n"
     ]
    },
    {
     "data": {
      "text/plain": [
       "{'Sensitivity': np.float64(0.9592696629213483),\n",
       " 'Specificity': np.float64(0.9076949443016281),\n",
       " 'PPV': np.float64(0.20231042654028436)}"
      ]
     },
     "execution_count": 22,
     "metadata": {},
     "output_type": "execute_result"
    }
   ],
   "source": [
    "get_feature_metrics(df, 'pred_test_Y', 0.9, 'specificity')"
   ]
  },
  {
   "cell_type": "code",
   "execution_count": 28,
   "metadata": {},
   "outputs": [],
   "source": [
    "def get_subgroup_metrics(df, subgroup):\n",
    "    df = df.dropna(subset=subgroup)\n",
    "    values = df[subgroup].unique()\n",
    "    metric_tracker = {}\n",
    "    for v in values: \n",
    "        subset = df[df[subgroup] == v]\n",
    "        y_pred = (subset['pred_test_Y'] >= 0.14).astype(int)\n",
    "        y_true = (subset['lung_cancer']).astype(int)\n",
    "        tn, fp, fn, tp = confusion_matrix(y_true, y_pred).ravel()\n",
    "        specificity = tn / (tn + fp) if (tn + fp) > 0 else 0\n",
    "        sensitivity = tp/(tp+fn) if (tp + fn) > 0 else 0\n",
    "        ppv = tp/(tp+fp) if (tp + fp) > 0 else 0\n",
    "        metric_tracker[v] = {\n",
    "            'Specificity': specificity,\n",
    "            'Sensitivity': sensitivity,\n",
    "            'PPV': ppv\n",
    "        }\n",
    "    return metric_tracker\n"
   ]
  },
  {
   "cell_type": "code",
   "execution_count": 29,
   "metadata": {},
   "outputs": [
    {
     "data": {
      "text/plain": [
       "{np.int64(1): {'Specificity': np.float64(0.8721034792833922),\n",
       "  'Sensitivity': np.float64(0.9698375870069605),\n",
       "  'PPV': np.float64(0.18438464931627702)},\n",
       " np.int64(2): {'Specificity': np.float64(0.9426552520722924),\n",
       "  'Sensitivity': np.float64(0.9430604982206405),\n",
       "  'PPV': np.float64(0.23895401262398558)}}"
      ]
     },
     "execution_count": 29,
     "metadata": {},
     "output_type": "execute_result"
    }
   ],
   "source": [
    "get_subgroup_metrics(df, 'sex')"
   ]
  },
  {
   "cell_type": "code",
   "execution_count": 30,
   "metadata": {},
   "outputs": [
    {
     "data": {
      "text/plain": [
       "{np.int64(1): {'Specificity': np.float64(0.9123024604920984),\n",
       "  'Sensitivity': np.float64(0.9585406301824212),\n",
       "  'PPV': np.float64(0.20866425992779783)},\n",
       " np.int64(2): {'Specificity': np.float64(0.9514632405424697),\n",
       "  'Sensitivity': np.float64(0.9722222222222222),\n",
       "  'PPV': np.float64(0.33980582524271846)},\n",
       " np.int64(4): {'Specificity': np.float64(0.9669187145557656),\n",
       "  'Sensitivity': np.float64(0.8846153846153846),\n",
       "  'PPV': np.float64(0.39655172413793105)},\n",
       " np.int64(7): {'Specificity': np.float64(0.6462655601659751),\n",
       "  'Sensitivity': np.float64(1.0),\n",
       "  'PPV': np.float64(0.08333333333333333)},\n",
       " np.int64(5): {'Specificity': np.float64(0.9080459770114943),\n",
       "  'Sensitivity': np.float64(1.0),\n",
       "  'PPV': np.float64(0.23809523809523808)},\n",
       " np.int64(3): {'Specificity': np.float64(0.936),\n",
       "  'Sensitivity': np.float64(1.0),\n",
       "  'PPV': np.float64(0.23809523809523808)},\n",
       " np.int64(6): {'Specificity': np.float64(0.891566265060241),\n",
       "  'Sensitivity': np.float64(1.0),\n",
       "  'PPV': np.float64(0.1)}}"
      ]
     },
     "execution_count": 30,
     "metadata": {},
     "output_type": "execute_result"
    }
   ],
   "source": [
    "get_subgroup_metrics(df, 'race7')"
   ]
  },
  {
   "cell_type": "code",
   "execution_count": 31,
   "metadata": {},
   "outputs": [
    {
     "data": {
      "text/plain": [
       "{np.float64(7.0): {'Specificity': np.float64(0.9557588202352063),\n",
       "  'Sensitivity': np.float64(0.8831168831168831),\n",
       "  'PPV': np.float64(0.22295081967213115)},\n",
       " np.float64(2.0): {'Specificity': np.float64(0.8566392479435958),\n",
       "  'Sensitivity': np.float64(0.9702970297029703),\n",
       "  'PPV': np.float64(0.28654970760233917)},\n",
       " np.float64(3.0): {'Specificity': np.float64(0.9066750039080819),\n",
       "  'Sensitivity': np.float64(0.9411764705882353),\n",
       "  'PPV': np.float64(0.19433198380566802)},\n",
       " np.float64(5.0): {'Specificity': np.float64(0.9064193071745198),\n",
       "  'Sensitivity': np.float64(0.9808917197452229),\n",
       "  'PPV': np.float64(0.212707182320442)},\n",
       " np.float64(1.0): {'Specificity': np.float64(0.8924302788844621),\n",
       "  'Sensitivity': np.float64(1.0),\n",
       "  'PPV': np.float64(0.25)},\n",
       " np.float64(4.0): {'Specificity': np.float64(0.9015304649148137),\n",
       "  'Sensitivity': np.float64(1.0),\n",
       "  'PPV': np.float64(0.21247113163972287)},\n",
       " np.float64(6.0): {'Specificity': np.float64(0.9334016393442623),\n",
       "  'Sensitivity': np.float64(0.9560439560439561),\n",
       "  'PPV': np.float64(0.2111650485436893)}}"
      ]
     },
     "execution_count": 31,
     "metadata": {},
     "output_type": "execute_result"
    }
   ],
   "source": [
    "get_subgroup_metrics(df, 'educat')"
   ]
  },
  {
   "cell_type": "code",
   "execution_count": 32,
   "metadata": {},
   "outputs": [
    {
     "data": {
      "text/plain": [
       "{np.float64(0.0): {'Specificity': np.float64(1.0),\n",
       "  'Sensitivity': np.float64(0.46),\n",
       "  'PPV': np.float64(1.0)},\n",
       " np.float64(2.0): {'Specificity': np.float64(0.8911013798231844),\n",
       "  'Sensitivity': np.float64(0.9970845481049563),\n",
       "  'PPV': np.float64(0.20602409638554217)},\n",
       " np.float64(1.0): {'Specificity': np.float64(0.6338526912181303),\n",
       "  'Sensitivity': np.float64(0.9965277777777778),\n",
       "  'PPV': np.float64(0.21725965177895534)}}"
      ]
     },
     "execution_count": 32,
     "metadata": {},
     "output_type": "execute_result"
    }
   ],
   "source": [
    "get_subgroup_metrics(df, 'cig_stat')"
   ]
  },
  {
   "cell_type": "code",
   "execution_count": 33,
   "metadata": {},
   "outputs": [
    {
     "data": {
      "text/plain": [
       "{np.float64(0.0): {'Specificity': np.float64(0.9891076291236999),\n",
       "  'Sensitivity': np.float64(0.875),\n",
       "  'PPV': np.float64(0.44545454545454544)},\n",
       " np.float64(1.0): {'Specificity': np.float64(0.616448326055313),\n",
       "  'Sensitivity': np.float64(1.0),\n",
       "  'PPV': np.float64(0.1752738654147105)}}"
      ]
     },
     "execution_count": 33,
     "metadata": {},
     "output_type": "execute_result"
    }
   ],
   "source": [
    "get_subgroup_metrics(df, 'nlst_flag')"
   ]
  }
 ],
 "metadata": {
  "kernelspec": {
   "display_name": "shree",
   "language": "python",
   "name": "python3"
  },
  "language_info": {
   "codemirror_mode": {
    "name": "ipython",
    "version": 3
   },
   "file_extension": ".py",
   "mimetype": "text/x-python",
   "name": "python",
   "nbconvert_exporter": "python",
   "pygments_lexer": "ipython3",
   "version": "3.10.15"
  }
 },
 "nbformat": 4,
 "nbformat_minor": 2
}
